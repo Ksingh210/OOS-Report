{
 "cells": [
  {
   "cell_type": "code",
   "execution_count": null,
   "metadata": {},
   "outputs": [],
   "source": [
    "import pandas as pd\n",
    "import matplotlib.pyplot as plt\n",
    "%matplotlib inline "
   ]
  },
  {
   "cell_type": "markdown",
   "metadata": {},
   "source": [
    "# Expectations"
   ]
  },
  {
   "cell_type": "code",
   "execution_count": null,
   "metadata": {},
   "outputs": [],
   "source": [
    "#Import POS file, AMT, Pallet Quantity file, Sku Conversion Sheet from THD to Orders\n",
    "\n",
    "#Use AMT sheet, merge in pallet counts per sku. Assign this a new variable \"OOS_Report\".\n",
    "\n",
    "#To \"OOS Report\" merge in POS OH units, fill na with 0. \n",
    "\n",
    "#Create a new column, labelled \"OH PLTs\". This column is the rounded of (OH Units / Pallet counts)\n",
    "\n",
    "#Check for orders, import the Orders data. Merge the sku conversion to the file.\n",
    "#Change the customer number to store number. \n",
    "\n",
    "#Combine the open with the closed list. \n",
    "\n",
    "#Merge the sum of the totals by store by sku with the \"OOS_Report\" file. \n",
    "\n",
    "#Create boolean filter to take away anything that total doesn't equal 0 pallets."
   ]
  },
  {
   "cell_type": "markdown",
   "metadata": {},
   "source": [
    "# Live Code"
   ]
  },
  {
   "cell_type": "code",
   "execution_count": null,
   "metadata": {},
   "outputs": [],
   "source": [
    "POS_File = pd.read_excel()\n",
    "AMT = pd.read_excel()\n",
    "Sku_Info = pd.read_excel()"
   ]
  },
  {
   "cell_type": "code",
   "execution_count": null,
   "metadata": {
    "scrolled": true
   },
   "outputs": [],
   "source": [
    "POS_File.head(3)"
   ]
  },
  {
   "cell_type": "code",
   "execution_count": null,
   "metadata": {},
   "outputs": [],
   "source": [
    "AMT.head(3)"
   ]
  },
  {
   "cell_type": "code",
   "execution_count": null,
   "metadata": {},
   "outputs": [],
   "source": [
    "Sku_Info.head(3)"
   ]
  },
  {
   "cell_type": "code",
   "execution_count": null,
   "metadata": {},
   "outputs": [],
   "source": [
    "#Code Block For All Out Of Stock Skus Report - No Open Order Information\n",
    "\n",
    "AMT.drop(columns = ['STR NAME', 'SET NAME'], inplace = True)\n",
    "\n",
    "AMT = AMT[AMT['AMT'] == 'Y']\n",
    "\n",
    "OOS_Report = AMT.merge(Sku_Info, how = 'left', left_on = 'Sku', right_on = 'ITM')\n",
    "OOS_Report.drop(columns = ['Item', 'Description', 'ITM', 'ITM DESC'], inplace = True)\n",
    "\n",
    "OOS_Report['PLT'] = OOS_Report['PLT'].astype('int')\n",
    "\n",
    "OOS_Report = OOS_Report.merge(POS_File, how = 'left', left_on = ['STR NBR', 'Sku'], right_on = ['Store', 'Item'])\n",
    "\n",
    "OOS_Report.drop(columns = ['BYO', 'Market', 'Store', 'Item', 'Item Description'], inplace = True)\n",
    "\n",
    "OOS_Report = OOS_Report.fillna(0)\n",
    "\n",
    "OOS_Report[2019] = OOS_Report[2019].astype('int')\n",
    "\n",
    "OOS_Report.columns = ['BYO NBR', 'MKT NBR', 'STR NBR', 'Sku', 'Sku Description', 'AMT', 'PLT', 'OH Units']\n",
    "\n",
    "OOS_Report['OH PLTs'] = (OOS_Report['OH Units'] / OOS_Report['PLT']).round().astype('int')\n",
    "\n",
    "True_OOS = OOS_Report[OOS_Report['OH PLTs'] == 0]"
   ]
  },
  {
   "cell_type": "code",
   "execution_count": null,
   "metadata": {},
   "outputs": [],
   "source": [
    "#Export Report --- This file is all out of stocks regardless of open orders\n",
    "True_OOS.to_excel('All OOS skus.xlsx', index = False)"
   ]
  },
  {
   "cell_type": "markdown",
   "metadata": {},
   "source": [
    "# Continue: Adding In On-Orders"
   ]
  },
  {
   "cell_type": "code",
   "execution_count": null,
   "metadata": {},
   "outputs": [],
   "source": [
    "#Import Orders Open & Closed Orders\n",
    "Orders = pd.read_excel()"
   ]
  },
  {
   "cell_type": "code",
   "execution_count": null,
   "metadata": {},
   "outputs": [],
   "source": [
    "#Code Block To Follow Up True_OOS Report But Only Show OOS Skus Without An Open Order\n",
    "\n",
    "Orders = Orders['Open'].append(Orders['Closed'], ignore_index=True, sort='True')\n",
    "\n",
    "Orders.drop(columns = ['Segment1', 'Segment1 Description', 'Segment2', 'Segment2 Description', 'Segment3', 'Segment3 Description'], inplace = True)\n",
    "\n",
    "Orders-Totals = Orders.groupby(by = ['Cust', 'Item']).sum()\n",
    "\n",
    "Orders-Totals = Orders-Totals.drop_duplicates(keep = 'first')\n",
    "\n",
    "Orders-Totals.drop(columns = ['Count Per Pallet', 'Customer PO Number', 'Ext Amt', 'SO Nbr - Rel', 'Unit Price'], inplace = True)\n",
    "\n",
    "Orders-Totals.reset_index(inplace = True)\n",
    "\n",
    "Orders-Totals['Cust'] = [x - 4560000 for x in Orders-Totals['Cust']]\n",
    "\n",
    "Orders-Totals = Orders-Totals.merge(Sku_Info, how = 'left', on = 'Item')\n",
    "Orders-Totals.drop(columns = ['Description', 'ITM DESC', 'PLT'], inplace = True)\n",
    "\n",
    "Orders-Totals.dropna(how = 'any', inplace = True)\n",
    "\n",
    "Orders-Totals['ITM'] = Orders-Totals['ITM'].astype('int')\n",
    "\n",
    "POS_With_OO = OOS_Report.merge(Orders-Totals, how = 'left', left_on = ['STR NBR', 'Sku'], right_on = ['Cust', 'ITM']).fillna(0)\n",
    "\n",
    "POS_With_OO.drop(columns = ['Cust', 'Item', 'ITM'], inplace = True)\n",
    "\n",
    "POS_With_OO['OH & OO PLT'] = POS_With_OO['OH PLTs'] + POS_With_OO['Pallet Ordered']\n",
    "\n",
    "Actual_OO = POS_With_OO[POS_With_OO['OH & OO PLT'] == 0]"
   ]
  },
  {
   "cell_type": "code",
   "execution_count": null,
   "metadata": {},
   "outputs": [],
   "source": [
    "#Export Report --- This file is all out of stocks after open orders\n",
    "Actual_OO.to_excel('OOS without Orders.xlsx', index = False)"
   ]
  },
  {
   "cell_type": "markdown",
   "metadata": {},
   "source": [
    "# Plotting The Results"
   ]
  },
  {
   "cell_type": "code",
   "execution_count": null,
   "metadata": {},
   "outputs": [],
   "source": [
    "plt.figure(1,figsize=(18,6))\n",
    "\n",
    "plt.subplot(1,2,1)\n",
    "True_OOS['Sku'].value_counts().plot(kind = 'bar', title = 'All OOS Skus', fontsize = 15)\n",
    "\n",
    "plt.subplot(1,2,2)\n",
    "Actual_OO['Sku'].value_counts().plot(kind = 'bar', title = 'OOS Skus Without Orders',fontsize = 15)"
   ]
  }
 ],
 "metadata": {
  "kernelspec": {
   "display_name": "Python 3",
   "language": "python",
   "name": "python3"
  },
  "language_info": {
   "codemirror_mode": {
    "name": "ipython",
    "version": 3
   },
   "file_extension": ".py",
   "mimetype": "text/x-python",
   "name": "python",
   "nbconvert_exporter": "python",
   "pygments_lexer": "ipython3",
   "version": "3.7.3"
  }
 },
 "nbformat": 4,
 "nbformat_minor": 2
}
