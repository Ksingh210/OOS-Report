{
 "cells": [
  {
   "cell_type": "code",
   "execution_count": null,
   "metadata": {},
   "outputs": [],
   "source": [
    "import pandas as pd\n",
    "import matplotlib.pyplot as plt\n",
    "%matplotlib inline "
   ]
  },
  {
   "cell_type": "markdown",
   "metadata": {},
   "source": [
    "# Expectations"
   ]
  },
  {
   "cell_type": "code",
   "execution_count": null,
   "metadata": {},
   "outputs": [],
   "source": [
    "#Import POS file, AMT, Pallet Quantity file, Sku Conversion Sheet from THD to MAS 500\n",
    "\n",
    "#Use AMT sheet, merge in pallet counts per sku. Assign this a new variable \"OOS_Report\".\n",
    "\n",
    "#To \"OOS Report\" merge in POS OH units, fill na with 0. \n",
    "\n",
    "#Create a new column, labelled \"OH PLTs\". This column is the rounded of (OH Units / Pallet counts)\n",
    "\n",
    "#Check for orders, import the MAS 500 data. Merge the sku conversion to the file.\n",
    "#Change the customer number to store number. \n",
    "\n",
    "#Combine the open with the closed list. \n",
    "\n",
    "#Merge the sum of the totals by store by sku with the \"OOS_Report\" file. \n",
    "\n",
    "#Create boolean filter to take away anything that total doesn't equal 0 pallets."
   ]
  },
  {
   "cell_type": "markdown",
   "metadata": {},
   "source": [
    "# Live Code"
   ]
  },
  {
   "cell_type": "code",
   "execution_count": null,
   "metadata": {},
   "outputs": [],
   "source": [
    "#Files to import per run of code\n",
    "POS_File = pd.read_excel(#Current Week's Updated Inventory, sheet_name=6)\n",
    "AMT = pd.read_excel(#In-Store Assortment List)\n",
    "Sku_Info = pd.read_excel(#Sku related file ie. pallet sizes per sku)"
   ]
  },
  {
   "cell_type": "code",
   "execution_count": null,
   "metadata": {},
   "outputs": [],
   "source": [
    "POS_File.head(3)"
   ]
  },
  {
   "cell_type": "code",
   "execution_count": null,
   "metadata": {},
   "outputs": [],
   "source": [
    "AMT.head(3)"
   ]
  },
  {
   "cell_type": "code",
   "execution_count": null,
   "metadata": {},
   "outputs": [],
   "source": [
    "Sku_Info.head(3)"
   ]
  },
  {
   "cell_type": "code",
   "execution_count": null,
   "metadata": {},
   "outputs": [],
   "source": [
    "#Removing unnecessary information\n",
    "AMT.drop(columns = ['STR NAME', 'SET NAME'], inplace = True)"
   ]
  },
  {
   "cell_type": "code",
   "execution_count": null,
   "metadata": {},
   "outputs": [],
   "source": [
    "#Reassigning file with filter of only active skus in each respective store\n",
    "AMT = AMT[AMT['AMT'] == 'Y']"
   ]
  },
  {
   "cell_type": "code",
   "execution_count": null,
   "metadata": {},
   "outputs": [],
   "source": [
    "#Merging together detailed sku information and the assortment and removing uncessary columns. Into new dataframe.\n",
    "OOS_Report = AMT.merge(Sku_Info, how = 'left', left_on = 'Sku', right_on = 'ITM')\n",
    "OOS_Report.drop(columns = ['Item', 'Description', 'ITM', 'ITM DESC'], inplace = True)"
   ]
  },
  {
   "cell_type": "code",
   "execution_count": null,
   "metadata": {},
   "outputs": [],
   "source": [
    "#Keeping numeric values as integars rather than floats\n",
    "OOS_Report['PLT'] = OOS_Report['PLT'].astype('int')"
   ]
  },
  {
   "cell_type": "code",
   "execution_count": null,
   "metadata": {},
   "outputs": [],
   "source": [
    "OOS_Report.head()"
   ]
  },
  {
   "cell_type": "code",
   "execution_count": null,
   "metadata": {},
   "outputs": [],
   "source": [
    "#Merging in the weekly updated POS and inventory to the assortment file\n",
    "OOS_Report = OOS_Report.merge(POS_File, how = 'left', left_on = ['STR NBR', 'Sku'], right_on = ['Store', 'Item'])"
   ]
  },
  {
   "cell_type": "code",
   "execution_count": null,
   "metadata": {},
   "outputs": [],
   "source": [
    "#Removing unnecessary columns from the merge\n",
    "OOS_Report.drop(columns = ['BYO', 'Market', 'Store', 'Item', 'Item Description'], inplace = True)"
   ]
  },
  {
   "cell_type": "code",
   "execution_count": null,
   "metadata": {},
   "outputs": [],
   "source": [
    "#Covering all \"N/A\" cells with 0s to avoid calculation errors\n",
    "OOS_Report = OOS_Report.fillna(0)"
   ]
  },
  {
   "cell_type": "code",
   "execution_count": null,
   "metadata": {},
   "outputs": [],
   "source": [
    "#Keeping numeric values as integars rather than floats\n",
    "OOS_Report[2019] = OOS_Report[2019].astype('int')"
   ]
  },
  {
   "cell_type": "code",
   "execution_count": null,
   "metadata": {},
   "outputs": [],
   "source": [
    "#Renaming columns for everyone viewing the file\n",
    "OOS_Report.columns = ['BYO NBR', 'MKT NBR', 'STR NBR', 'Sku', 'Sku Description', 'AMT', 'PLT', 'OH Units']"
   ]
  },
  {
   "cell_type": "code",
   "execution_count": null,
   "metadata": {},
   "outputs": [],
   "source": [
    "OOS_Report.head()"
   ]
  },
  {
   "cell_type": "code",
   "execution_count": null,
   "metadata": {},
   "outputs": [],
   "source": [
    "#Calculating inventory pallets per sku per store for actual out of stock skus\n",
    "OOS_Report['OH PLTs'] = (OOS_Report['OH Units'] / OOS_Report['PLT']).round().astype('int')"
   ]
  },
  {
   "cell_type": "code",
   "execution_count": null,
   "metadata": {
    "scrolled": true
   },
   "outputs": [],
   "source": [
    "OOS_Report.head()"
   ]
  },
  {
   "cell_type": "markdown",
   "metadata": {},
   "source": [
    "Output 1: All OOS (Not counting on order)"
   ]
  },
  {
   "cell_type": "code",
   "execution_count": null,
   "metadata": {},
   "outputs": [],
   "source": [
    "#First output report, all current out of stock items (not looking at what is open as an order)\n",
    "True_OOS = OOS_Report[OOS_Report['OH PLTs'] == 0]"
   ]
  },
  {
   "cell_type": "markdown",
   "metadata": {},
   "source": [
    "Continue: Adding In On-Orders"
   ]
  },
  {
   "cell_type": "code",
   "execution_count": null,
   "metadata": {},
   "outputs": [],
   "source": [
    "MAS500 = pd.read_excel(#Adding in the dataframes for the open orders, sheet_name=None)"
   ]
  },
  {
   "cell_type": "code",
   "execution_count": null,
   "metadata": {},
   "outputs": [],
   "source": [
    "#Combining the seperated dataframes into one\n",
    "MAS500 = MAS500['Open'].append(MAS500['Closed'], ignore_index=True, sort='True')"
   ]
  },
  {
   "cell_type": "code",
   "execution_count": null,
   "metadata": {},
   "outputs": [],
   "source": [
    "#Removing unnecessary columns from file\n",
    "MAS500.drop(columns = ['Segment1', 'Segment1 Description', 'Segment2', 'Segment2 Description', 'Segment3', 'Segment3 Description'], inplace = True)"
   ]
  },
  {
   "cell_type": "code",
   "execution_count": null,
   "metadata": {},
   "outputs": [],
   "source": [
    "MAS500.head()"
   ]
  },
  {
   "cell_type": "code",
   "execution_count": null,
   "metadata": {},
   "outputs": [],
   "source": [
    "#Creating group by store and item for total units being ordered per sku per store\n",
    "MAS500_Totals = MAS500.groupby(by = ['Cust', 'Item']).sum()"
   ]
  },
  {
   "cell_type": "code",
   "execution_count": null,
   "metadata": {},
   "outputs": [],
   "source": [
    "#Removing any duplicated data from the output of the sum \n",
    "MAS500_Totals = MAS500_Totals.drop_duplicates(keep = 'first')"
   ]
  },
  {
   "cell_type": "code",
   "execution_count": null,
   "metadata": {},
   "outputs": [],
   "source": [
    "#Removing unnecessary columns\n",
    "MAS500_Totals.drop(columns = ['Count Per Pallet', 'Customer PO Number', 'Ext Amt', 'SO Nbr - Rel', 'Unit Price'], inplace = True)"
   ]
  },
  {
   "cell_type": "code",
   "execution_count": null,
   "metadata": {},
   "outputs": [],
   "source": [
    "MAS500_Totals.head()"
   ]
  },
  {
   "cell_type": "code",
   "execution_count": null,
   "metadata": {
    "scrolled": false
   },
   "outputs": [],
   "source": [
    "#Resetting the index to get out of the multi-index dataframe\n",
    "MAS500_Totals.reset_index(inplace = True)"
   ]
  },
  {
   "cell_type": "code",
   "execution_count": null,
   "metadata": {},
   "outputs": [],
   "source": [
    "#Reassign the store numbers to match the inventory file from above\n",
    "MAS500_Totals['Cust'] = [x - 6000000 for x in MAS500_Totals['Cust']]"
   ]
  },
  {
   "cell_type": "code",
   "execution_count": null,
   "metadata": {},
   "outputs": [],
   "source": [
    "MAS500_Totals.tail()"
   ]
  },
  {
   "cell_type": "code",
   "execution_count": null,
   "metadata": {},
   "outputs": [],
   "source": [
    "#Combining the order details with the sku information to align the different skus and removing unnecessary columns\n",
    "MAS500_Totals = MAS500_Totals.merge(Sku_Info, how = 'left', on = 'Item')\n",
    "MAS500_Totals.drop(columns = ['Description', 'ITM DESC', 'PLT'], inplace = True)"
   ]
  },
  {
   "cell_type": "code",
   "execution_count": null,
   "metadata": {},
   "outputs": [],
   "source": [
    "#Removing any data that does not have a valid output\n",
    "MAS500_Totals.dropna(how = 'any', inplace = True)"
   ]
  },
  {
   "cell_type": "code",
   "execution_count": null,
   "metadata": {},
   "outputs": [],
   "source": [
    "#Turning the sku numbers to integars from floats\n",
    "MAS500_Totals['ITM'] = MAS500_Totals['ITM'].astype('int')"
   ]
  },
  {
   "cell_type": "code",
   "execution_count": null,
   "metadata": {},
   "outputs": [],
   "source": [
    "MAS500_Totals.head()"
   ]
  },
  {
   "cell_type": "code",
   "execution_count": null,
   "metadata": {},
   "outputs": [],
   "source": [
    "OOS_Report.head()"
   ]
  },
  {
   "cell_type": "code",
   "execution_count": null,
   "metadata": {},
   "outputs": [],
   "source": [
    "#Merging the original inventory file with the orders to see exactly what inventory issue is already being addressed\n",
    "POS_With_OO = OOS_Report.merge(MAS500_Totals, how = 'left', left_on = ['STR NBR', 'Sku'], right_on = ['Cust', 'ITM']).fillna(0)\n",
    "POS_With_OO.head()"
   ]
  },
  {
   "cell_type": "code",
   "execution_count": null,
   "metadata": {},
   "outputs": [],
   "source": [
    "#Removing unnecessary columns\n",
    "POS_With_OO.drop(columns = ['Cust', 'Item', 'ITM'], inplace = True)"
   ]
  },
  {
   "cell_type": "code",
   "execution_count": null,
   "metadata": {},
   "outputs": [],
   "source": [
    "#Adding in a new pallet count by adding store inventory with order units per store per sku\n",
    "POS_With_OO['OH & OO PLT'] = POS_With_OO['OH PLTs'] + POS_With_OO['Pallet Ordered']"
   ]
  },
  {
   "cell_type": "code",
   "execution_count": null,
   "metadata": {},
   "outputs": [],
   "source": [
    "POS_With_OO.head()"
   ]
  },
  {
   "cell_type": "markdown",
   "metadata": {},
   "source": [
    "Output 2: OOS without an Order"
   ]
  },
  {
   "cell_type": "code",
   "execution_count": null,
   "metadata": {},
   "outputs": [],
   "source": [
    "#New file that shows inventory issues that have not been addressed\n",
    "Actual_OO = POS_With_OO[POS_With_OO['OH & OO PLT'] == 0]"
   ]
  },
  {
   "cell_type": "markdown",
   "metadata": {},
   "source": [
    "Exporting Results"
   ]
  },
  {
   "cell_type": "code",
   "execution_count": null,
   "metadata": {},
   "outputs": [],
   "source": [
    "#Exporting both files out to excel\n",
    "True_OOS.to_excel('All OOS skus.xlsx', index = False)\n",
    "Actual_OO.to_excel('OOS without Orders.xlsx', index = False)"
   ]
  }
 ],
 "metadata": {
  "kernelspec": {
   "display_name": "Python 3",
   "language": "python",
   "name": "python3"
  },
  "language_info": {
   "codemirror_mode": {
    "name": "ipython",
    "version": 3
   },
   "file_extension": ".py",
   "mimetype": "text/x-python",
   "name": "python",
   "nbconvert_exporter": "python",
   "pygments_lexer": "ipython3",
   "version": "3.7.3"
  }
 },
 "nbformat": 4,
 "nbformat_minor": 2
}
